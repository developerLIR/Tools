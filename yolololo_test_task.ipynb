{
  "nbformat": 4,
  "nbformat_minor": 0,
  "metadata": {
    "colab": {
      "name": "yolololo_test_task.ipynb",
      "provenance": [],
      "authorship_tag": "ABX9TyNvtIVFvi6Gty540GmQWxTk",
      "include_colab_link": true
    },
    "kernelspec": {
      "name": "python3",
      "display_name": "Python 3"
    },
    "language_info": {
      "name": "python"
    }
  },
  "cells": [
    {
      "cell_type": "markdown",
      "metadata": {
        "id": "view-in-github",
        "colab_type": "text"
      },
      "source": [
        "<a href=\"https://colab.research.google.com/github/developerLIR/Tools/blob/main/yolololo_test_task.ipynb\" target=\"_parent\"><img src=\"https://colab.research.google.com/assets/colab-badge.svg\" alt=\"Open In Colab\"/></a>"
      ]
    },
    {
      "cell_type": "code",
      "metadata": {
        "id": "4mu5t6vT5qcT"
      },
      "source": [
        ""
      ],
      "execution_count": null,
      "outputs": []
    },
    {
      "cell_type": "code",
      "metadata": {
        "id": "rcLrZZdo5zCI"
      },
      "source": [
        "string = 'я купил вольво'\n",
        "words_of_string = string.split()\n",
        "sent = [string]\n",
        "\n",
        "words = ['volvo','valva','вольво']\n"
      ],
      "execution_count": null,
      "outputs": []
    },
    {
      "cell_type": "code",
      "metadata": {
        "colab": {
          "base_uri": "https://localhost:8080/"
        },
        "id": "cIBhWMfw1xUz",
        "outputId": "f246426c-f4d3-43fa-c6fd-59c0cc1c12e1"
      },
      "source": [
        "print(words_of_string)\n",
        "type(words_of_string)"
      ],
      "execution_count": null,
      "outputs": [
        {
          "output_type": "stream",
          "text": [
            "['я', 'купил', 'вольво']\n"
          ],
          "name": "stdout"
        },
        {
          "output_type": "execute_result",
          "data": {
            "text/plain": [
              "list"
            ]
          },
          "metadata": {
            "tags": []
          },
          "execution_count": 14
        }
      ]
    },
    {
      "cell_type": "code",
      "metadata": {
        "id": "f7YB0FJc6LSq"
      },
      "source": [
        "scor = 0\n",
        "\n",
        "for i in len(comments)\n",
        "sample = comments[i]\n",
        "for j in len(matcher):\n",
        "  if comments[i]  matcher[j]: \n",
        "    scor +=1\n",
        "    print(scor,comments[i])\n",
        "\n",
        "\n",
        "\n"
      ],
      "execution_count": null,
      "outputs": []
    },
    {
      "cell_type": "code",
      "metadata": {
        "id": "gyAg_Sq3IOdc"
      },
      "source": [
        "from collections import Counter\n",
        "a = ['word', 'another', 'word', 'and', 'yet', 'another']\n",
        "c = Counter(a)\n",
        "# c == Counter({'word': 2, 'another': 2, 'and': 1, 'yet': 1})"
      ],
      "execution_count": null,
      "outputs": []
    },
    {
      "cell_type": "code",
      "metadata": {
        "colab": {
          "base_uri": "https://localhost:8080/"
        },
        "id": "B3fUhUv1IWCc",
        "outputId": "b218ce9f-5f47-445f-d4f1-1354ad0a861e"
      },
      "source": [
        "print(c)"
      ],
      "execution_count": null,
      "outputs": [
        {
          "output_type": "stream",
          "text": [
            "Counter({'word': 2, 'another': 2, 'and': 1, 'yet': 1})\n"
          ],
          "name": "stdout"
        }
      ]
    },
    {
      "cell_type": "code",
      "metadata": {
        "colab": {
          "base_uri": "https://localhost:8080/",
          "height": 134
        },
        "id": "Wzd17iGwJBhy",
        "outputId": "676fd00a-d5f5-466e-bae6-7e00c2f483e7"
      },
      "source": [
        "\n",
        "l = ['one', 'two', 'three']\n",
        "if any(word in 'some one long two phrase three' for word in l):"
      ],
      "execution_count": null,
      "outputs": [
        {
          "output_type": "error",
          "ename": "SyntaxError",
          "evalue": "ignored",
          "traceback": [
            "\u001b[0;36m  File \u001b[0;32m\"<ipython-input-5-70c02a984252>\"\u001b[0;36m, line \u001b[0;32m3\u001b[0m\n\u001b[0;31m    if any(word in 'some one long two phrase three' for word in l):\u001b[0m\n\u001b[0m                                                                   ^\u001b[0m\n\u001b[0;31mSyntaxError\u001b[0m\u001b[0;31m:\u001b[0m unexpected EOF while parsing\n"
          ]
        }
      ]
    },
    {
      "cell_type": "code",
      "metadata": {
        "colab": {
          "base_uri": "https://localhost:8080/"
        },
        "id": "mO6QeWNNJTgz",
        "outputId": "9cfdb4ec-f4f4-4d9f-d92e-5cebe44bd29a"
      },
      "source": [
        "long_word_list = 'я купил вольво'\n",
        "long_word_set = set(long_word_list.split())\n",
        "set('word along river'.split()) & long_word_set\n",
        "set(['черное\n",
        "'])"
      ],
      "execution_count": null,
      "outputs": [
        {
          "output_type": "execute_result",
          "data": {
            "text/plain": [
              "{'черное'}"
            ]
          },
          "metadata": {
            "tags": []
          },
          "execution_count": 8
        }
      ]
    },
    {
      "cell_type": "code",
      "metadata": {
        "colab": {
          "base_uri": "https://localhost:8080/",
          "height": 223
        },
        "id": "YtXv3w0JOLcE",
        "outputId": "c3819cd9-a8d1-4892-db4f-2b05d47c2f66"
      },
      "source": [
        "some_list = ['abc-123', 'def-456', 'ghi-789', 'abc-456']\n",
        "for i in range(some_list):\n",
        "  if any(\"abc def def-456 \" in s for s in some_list):\n",
        "    print('hello')"
      ],
      "execution_count": null,
      "outputs": [
        {
          "output_type": "error",
          "ename": "TypeError",
          "evalue": "ignored",
          "traceback": [
            "\u001b[0;31m---------------------------------------------------------------------------\u001b[0m",
            "\u001b[0;31mTypeError\u001b[0m                                 Traceback (most recent call last)",
            "\u001b[0;32m<ipython-input-9-7c2cd8f508b4>\u001b[0m in \u001b[0;36m<module>\u001b[0;34m()\u001b[0m\n\u001b[1;32m      1\u001b[0m \u001b[0msome_list\u001b[0m \u001b[0;34m=\u001b[0m \u001b[0;34m[\u001b[0m\u001b[0;34m'abc-123'\u001b[0m\u001b[0;34m,\u001b[0m \u001b[0;34m'def-456'\u001b[0m\u001b[0;34m,\u001b[0m \u001b[0;34m'ghi-789'\u001b[0m\u001b[0;34m,\u001b[0m \u001b[0;34m'abc-456'\u001b[0m\u001b[0;34m]\u001b[0m\u001b[0;34m\u001b[0m\u001b[0;34m\u001b[0m\u001b[0m\n\u001b[0;32m----> 2\u001b[0;31m \u001b[0;32mfor\u001b[0m \u001b[0mi\u001b[0m \u001b[0;32min\u001b[0m \u001b[0mrange\u001b[0m\u001b[0;34m(\u001b[0m\u001b[0msome_list\u001b[0m\u001b[0;34m)\u001b[0m\u001b[0;34m:\u001b[0m\u001b[0;34m\u001b[0m\u001b[0;34m\u001b[0m\u001b[0m\n\u001b[0m\u001b[1;32m      3\u001b[0m   \u001b[0;32mif\u001b[0m \u001b[0many\u001b[0m\u001b[0;34m(\u001b[0m\u001b[0;34m\"abc def def-456 \"\u001b[0m \u001b[0;32min\u001b[0m \u001b[0ms\u001b[0m \u001b[0;32mfor\u001b[0m \u001b[0ms\u001b[0m \u001b[0;32min\u001b[0m \u001b[0msome_list\u001b[0m\u001b[0;34m)\u001b[0m\u001b[0;34m:\u001b[0m\u001b[0;34m\u001b[0m\u001b[0;34m\u001b[0m\u001b[0m\n\u001b[1;32m      4\u001b[0m     \u001b[0mprint\u001b[0m\u001b[0;34m(\u001b[0m\u001b[0;34m'hello'\u001b[0m\u001b[0;34m)\u001b[0m\u001b[0;34m\u001b[0m\u001b[0;34m\u001b[0m\u001b[0m\n",
            "\u001b[0;31mTypeError\u001b[0m: 'list' object cannot be interpreted as an integer"
          ]
        }
      ]
    },
    {
      "cell_type": "code",
      "metadata": {
        "id": "6k0PiHSsjmXY"
      },
      "source": [
        "x = [1,2,3,4,5,2,3,5,1,32,5,4,67,45,563,3,123,4,2,4]\n",
        "import pandas as pd\n",
        "import matplotlib as plt\n",
        "f = pd.Series(x)\n",
        "# print(f)\n",
        "f.describe()\n",
        "plot = plt.subplot()\n",
        "plot.bar(f)\n",
        "slot.show()"
      ],
      "execution_count": null,
      "outputs": []
    }
  ]
}